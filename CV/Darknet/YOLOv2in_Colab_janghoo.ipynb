{
  "nbformat": 4,
  "nbformat_minor": 0,
  "metadata": {
    "colab": {
      "name": "YOLOv2in_Colab_janghoo.ipynb",
      "provenance": [],
      "toc_visible": true,
      "mount_file_id": "1ICLDZUDvyktUSQZoSSnUOxQkusAp0R8a",
      "authorship_tag": "ABX9TyNhcROKovzHxx6fzEEPiOxc",
      "include_colab_link": true
    },
    "kernelspec": {
      "name": "python3",
      "display_name": "Python 3"
    },
    "accelerator": "GPU"
  },
  "cells": [
    {
      "cell_type": "markdown",
      "metadata": {
        "id": "view-in-github",
        "colab_type": "text"
      },
      "source": [
        "<a href=\"https://colab.research.google.com/github/ProtossDragoon/CoMoLab/blob/master/CV/Darknet/YOLOv2in_Colab_janghoo.ipynb\" target=\"_parent\"><img src=\"https://colab.research.google.com/assets/colab-badge.svg\" alt=\"Open In Colab\"/></a>"
      ]
    },
    {
      "cell_type": "markdown",
      "metadata": {
        "id": "JiMfmXjPo7Iy",
        "colab_type": "text"
      },
      "source": [
        "## Google Drive 연결"
      ]
    },
    {
      "cell_type": "code",
      "metadata": {
        "id": "NV3Fb9BNFKjH",
        "colab_type": "code",
        "colab": {}
      },
      "source": [
        "from google.colab import drive\n",
        "drive.mount('/content/gdrive')"
      ],
      "execution_count": 0,
      "outputs": []
    },
    {
      "cell_type": "markdown",
      "metadata": {
        "id": "YRFOsRt4pNu2",
        "colab_type": "text"
      },
      "source": [
        "## Install linux dependencies to colab session"
      ]
    },
    {
      "cell_type": "code",
      "metadata": {
        "id": "-FxG-yifplZe",
        "colab_type": "code",
        "colab": {}
      },
      "source": [
        "!apt-get update\n",
        "!apt-get upgrade\n",
        "\n",
        "!apt-get install build-essential\n",
        "!apt-get install cmake git libgtk2.0-dev pkg-config libavcodec-dev libavformat-dev libswscale-dev\n",
        "\n",
        "!apt-get install libavcodec-dev libavformat-dev libswscale-d\n",
        "\n",
        "!apt-get install libopencv-dev\n",
        "\n",
        "!apt install g++-5\n",
        "!apt install gcc-5\n",
        "\n",
        "!apt update\n",
        "!apt upgrade"
      ],
      "execution_count": 0,
      "outputs": []
    },
    {
      "cell_type": "markdown",
      "metadata": {
        "id": "QvZsV9FSpEbk",
        "colab_type": "text"
      },
      "source": [
        "## [only once] Install Darknet"
      ]
    },
    {
      "cell_type": "code",
      "metadata": {
        "id": "jSGY6fJWFkRN",
        "colab_type": "code",
        "colab": {}
      },
      "source": [
        "# 구글 드라이브에 darknet을 설치\n",
        "# version : AlexeyAB : https://github.com/AlexeyAB/darknet\n",
        "\n",
        "%cd /content/gdrive/\"My Drive\"\n",
        "# !git clone https://github.com/AlexeyAB/darknet\n",
        "\n",
        "%cd darknet\n",
        "!ls\n",
        "\n",
        "!sed -i 's/OPENCV=0/OPENCV=1/g' Makefile\n",
        "!sed -i 's/GPU=0/GPU=1/g' Makefile\n",
        "!make"
      ],
      "execution_count": 0,
      "outputs": []
    },
    {
      "cell_type": "markdown",
      "metadata": {
        "id": "6HnUkSNbrhGD",
        "colab_type": "text"
      },
      "source": [
        "## [only once] Download pretrained weight"
      ]
    },
    {
      "cell_type": "markdown",
      "metadata": {
        "id": "gqOZyDkCqQiS",
        "colab_type": "text"
      },
      "source": [
        "### [only once] yolov3 weight for DEMO"
      ]
    },
    {
      "cell_type": "code",
      "metadata": {
        "id": "sOOFWmiqqcYZ",
        "colab_type": "code",
        "colab": {}
      },
      "source": [
        "%cd /content/gdrive/\"My Drive\"/darknet\n",
        "!wget https://pjreddie.com/media/files/yolov3.weights"
      ],
      "execution_count": 0,
      "outputs": []
    },
    {
      "cell_type": "markdown",
      "metadata": {
        "id": "ixmLWUs_qGPG",
        "colab_type": "text"
      },
      "source": [
        "## Run Demo"
      ]
    },
    {
      "cell_type": "markdown",
      "metadata": {
        "id": "01VeRUI7ruyK",
        "colab_type": "text"
      },
      "source": [
        "### Run Demo Image"
      ]
    },
    {
      "cell_type": "code",
      "metadata": {
        "id": "-7vpDaV1yKq4",
        "colab_type": "code",
        "colab": {}
      },
      "source": [
        "import tensorflow as tf\n",
        "device_name = tf.test.gpu_device_name()\n",
        "print(device_name)\n",
        "print(\"'sup!'\")\n",
        "\n",
        "!/usr/local/cuda/bin/nvcc --version\n",
        "\n",
        "# 디렉터리 이동\n",
        "%cd /content/gdrive/\"My Drive\"/darknet\n",
        "!rm predictions.jpg\n",
        "\n",
        "# 실행권한 부여\n",
        "!chmod u+x ./darknet\n",
        "\n",
        "# 실행 명령\n",
        "!./darknet detect cfg/yolov3.cfg yolov3.weights data/person.jpg\n",
        "\n",
        "def imShow(path):\n",
        "  import cv2\n",
        "  import matplotlib.pyplot as plt\n",
        "  %matplotlib inline\n",
        "\n",
        "  image = cv2.imread(path)\n",
        "  height, width = image.shape[:2]\n",
        "  resized_image = cv2.resize(image,(3*width, 3*height), interpolation = cv2.INTER_CUBIC)\n",
        "\n",
        "  fig = plt.gcf()\n",
        "  fig.set_size_inches(18, 10)\n",
        "  plt.axis(\"off\")\n",
        "  plt.imshow(cv2.cvtColor(resized_image, cv2.COLOR_BGR2RGB))\n",
        "  plt.show()\n",
        "  \n",
        "  \n",
        "def upload():\n",
        "  from google.colab import files\n",
        "  uploaded = files.upload() \n",
        "  for name, data in uploaded.items():\n",
        "    with open(name, 'wb') as f:\n",
        "      f.write(data)\n",
        "      print ('saved file', name)\n",
        "def download(path):\n",
        "  from google.colab import files\n",
        "  files.download(path)\n",
        "  \n",
        "# 실행의 결과물 파일을 보여줌\n",
        "imShow('predictions.jpg')"
      ],
      "execution_count": 0,
      "outputs": []
    },
    {
      "cell_type": "markdown",
      "metadata": {
        "id": "zLuOj_wpq9X7",
        "colab_type": "text"
      },
      "source": [
        "# Train Custom Dataset\n",
        "\n",
        "\n",
        "https://github.com/AlexeyAB/darknet/tree/47c7af1cea5bbdedf1184963355e6418cb8b1b4f#how-to-train-to-detect-your-custom-objects\n"
      ]
    },
    {
      "cell_type": "markdown",
      "metadata": {
        "id": "25XSHHaFrz4A",
        "colab_type": "text"
      },
      "source": [
        "## Training model : tiny-yolo v2\n",
        "\n",
        "pre-trained weights for convolution layers"
      ]
    },
    {
      "cell_type": "markdown",
      "metadata": {
        "id": "q9V4HYh7r9J2",
        "colab_type": "text"
      },
      "source": [
        "### [only once] Prepare Gun Dataset"
      ]
    },
    {
      "cell_type": "code",
      "metadata": {
        "id": "SlAm85c2sHSk",
        "colab_type": "code",
        "colab": {}
      },
      "source": [
        "# Dwonload / Upload dataset\n",
        "# Gun dataset settting\n",
        "# upload gun dataset 'zip file' to google colab\n",
        "\n",
        "%cd /content/gdrive/\"My Drive\"/darknet/data/customdata\n",
        "!rm -r gundata\n",
        "!mkdir gundata\n",
        "\n",
        "!unzip images_and_labels.zip -d /content/gdrive/\"My Drive\"/darknet/data/customdata/gundata\n",
        "!ls"
      ],
      "execution_count": 0,
      "outputs": []
    },
    {
      "cell_type": "markdown",
      "metadata": {
        "id": "PnXCQ3zrEZ2X",
        "colab_type": "text"
      },
      "source": [
        "### [only once] Change .cfg file"
      ]
    },
    {
      "cell_type": "code",
      "metadata": {
        "id": "38HoRfsfEZdu",
        "colab_type": "code",
        "colab": {}
      },
      "source": [
        "# 1. copy yolov2-tiny-voc.cfg file\n",
        "# 2. rename yolov2-tiny-voc 사본.cfg to yolov2-tiny-voc-gundetection.cfg\n",
        "# 3. yolov2-tiny-voc-gundetection.cfg 수정\n",
        "\n",
        "## 수정 내용 :\n",
        "\n",
        "### [net] 부분\n",
        "'''\n",
        "[net]\n",
        "# Testing\n",
        "# batch=1\n",
        "# subdivisions=1\n",
        "# Training\n",
        "batch=64\n",
        "subdivisions=2\n",
        "width=416\n",
        "height=416\n",
        "channels=3\n",
        "momentum=0.9\n",
        "decay=0.0005\n",
        "angle=0\n",
        "saturation = 1.5\n",
        "exposure = 1.5\n",
        "hue=.1\n",
        "\n",
        "learning_rate=0.0007\n",
        "max_batches = 10000\n",
        "policy=steps\n",
        "steps=-1,100,20000,30000\n",
        "scales=.1,10,.1,.1\n",
        "'''\n",
        "\n",
        "### 거의 마지막 부분\n",
        "'''\n",
        "###########\n",
        "\n",
        "[convolutional]\n",
        "batch_normalize=1\n",
        "size=3\n",
        "stride=1\n",
        "pad=1\n",
        "filters=1024\n",
        "activation=leaky\n",
        "\n",
        "[convolutional]\n",
        "size=1\n",
        "stride=1\n",
        "pad=1\n",
        "filters=30\n",
        "activation=linear\n",
        "\n",
        "[region]\n",
        "anchors = 1.08,1.19,  3.42,4.41,  6.63,11.38,  9.42,5.11,  16.62,10.52\n",
        "bias_match=1\n",
        "classes=1\n",
        "coords=4\n",
        "num=5\n",
        "softmax=1\n",
        "jitter=.2\n",
        "rescore=1\n",
        "\n",
        "object_scale=5\n",
        "noobject_scale=1\n",
        "class_scale=1\n",
        "coord_scale=1\n",
        "\n",
        "absolute=1\n",
        "thresh = .3\n",
        "random=1\n",
        "'''"
      ],
      "execution_count": 0,
      "outputs": []
    },
    {
      "cell_type": "markdown",
      "metadata": {
        "colab_type": "text",
        "id": "iVjOE4TSSd5d"
      },
      "source": [
        "### [only once] Get pretrained weight"
      ]
    },
    {
      "cell_type": "code",
      "metadata": {
        "id": "SCESAagn5ino",
        "colab_type": "code",
        "colab": {}
      },
      "source": [
        "# Download default weights file for tiny-yolo-voc: http://pjreddie.com/media/files/tiny-yolo-voc.weights\n",
        "# but not work, so find yourself!\n",
        "\n",
        "# download from here! https://pjreddie.com/darknet/yolov2/\n",
        "\n",
        "%cd /content/gdrive/\"My Drive\"/darknet/weights"
      ],
      "execution_count": 0,
      "outputs": []
    },
    {
      "cell_type": "code",
      "metadata": {
        "id": "g548GeHP6l7-",
        "colab_type": "code",
        "outputId": "017e7f0c-c5ce-4011-8e17-0b6d1f66eaa0",
        "colab": {
          "base_uri": "https://localhost:8080/",
          "height": 508
        }
      },
      "source": [
        "# darknet partial cfg/tiny-yolo-voc.cfg tiny-yolo-voc.weights tiny-yolo-voc.conv.13 13\n",
        "# 이 명령어를 수행하면, tiny-yolo-voc.weights 에서 cfg/tiny-yolo-voc.cfg 의 13번째 conv layer 까지만의 정보를 담고 있는\n",
        "# 새로운 가중치 파일을 생성함. \n",
        "\n",
        "# 실행권한 부여\n",
        "!chmod u+x ./darknet\n",
        "\n",
        "%cd /content/gdrive/\"My Drive\"/darknet\n",
        "!./darknet partial cfg/tiny-yolo-voc.cfg weights/yolov2-tiny-voc.weights weights/yolov2-tiny-voc.conv.13 13"
      ],
      "execution_count": 0,
      "outputs": [
        {
          "output_type": "stream",
          "text": [
            "/content/gdrive/My Drive/darknet\n",
            " OpenCV isn't used \n",
            "batch = 8, time_steps = 1, train = 1 \n",
            "   layer   filters  size/strd(dil)      input                output\n",
            "   0 conv     16       3 x 3/ 1    416 x 416 x   3 ->  416 x 416 x  16 0.150 BF\n",
            "   1 max                2x 2/ 2    416 x 416 x  16 ->  208 x 208 x  16 0.003 BF\n",
            "   2 conv     32       3 x 3/ 1    208 x 208 x  16 ->  208 x 208 x  32 0.399 BF\n",
            "   3 max                2x 2/ 2    208 x 208 x  32 ->  104 x 104 x  32 0.001 BF\n",
            "   4 conv     64       3 x 3/ 1    104 x 104 x  32 ->  104 x 104 x  64 0.399 BF\n",
            "   5 max                2x 2/ 2    104 x 104 x  64 ->   52 x  52 x  64 0.001 BF\n",
            "   6 conv    128       3 x 3/ 1     52 x  52 x  64 ->   52 x  52 x 128 0.399 BF\n",
            "   7 max                2x 2/ 2     52 x  52 x 128 ->   26 x  26 x 128 0.000 BF\n",
            "   8 conv    256       3 x 3/ 1     26 x  26 x 128 ->   26 x  26 x 256 0.399 BF\n",
            "   9 max                2x 2/ 2     26 x  26 x 256 ->   13 x  13 x 256 0.000 BF\n",
            "  10 conv    512       3 x 3/ 1     13 x  13 x 256 ->   13 x  13 x 512 0.399 BF\n",
            "  11 max                2x 2/ 1     13 x  13 x 512 ->   13 x  13 x 512 0.000 BF\n",
            "  12 conv   1024       3 x 3/ 1     13 x  13 x 512 ->   13 x  13 x1024 1.595 BF\n",
            "  13 conv   1024       3 x 3/ 1     13 x  13 x1024 ->   13 x  13 x1024 3.190 BF\n",
            "  14 conv    125       1 x 1/ 1     13 x  13 x1024 ->   13 x  13 x 125 0.043 BF\n",
            "  15 detection\n",
            "mask_scale: Using default '1.000000'\n",
            "Total BFLOPS 6.977 \n",
            "avg_outputs = 454208 \n",
            "Loading weights from weights/yolov2-tiny-voc.weights...\n",
            " seen 32, trained: 2566 K-images (40 Kilo-batches_64) \n",
            "Done! Loaded 13 layers from weights-file \n",
            "Saving weights to weights/yolov2-tiny-voc.conv.13\n"
          ],
          "name": "stdout"
        }
      ]
    },
    {
      "cell_type": "markdown",
      "metadata": {
        "id": "Sa30iMM1_MQd",
        "colab_type": "text"
      },
      "source": [
        "### [only once] Prepare filename text"
      ]
    },
    {
      "cell_type": "code",
      "metadata": {
        "id": "klCWBL0l_est",
        "colab_type": "code",
        "colab": {}
      },
      "source": [
        "# prepare these files yourself !\n",
        "\n",
        "## obj-gundetection.data\n",
        "## obj-gundetection.names\n",
        "## train-gundetection.txt\n",
        "## valid-gundetection.txt\n",
        "## test-gundetection.txt"
      ],
      "execution_count": 0,
      "outputs": []
    },
    {
      "cell_type": "markdown",
      "metadata": {
        "id": "jpyY7IivZ70-",
        "colab_type": "text"
      },
      "source": [
        "### [only once] Set checkpoint"
      ]
    },
    {
      "cell_type": "code",
      "metadata": {
        "id": "aYJ0ANxvZ4z0",
        "colab_type": "code",
        "colab": {}
      },
      "source": [
        "# AlexeyAB 의 Darknet 같은 경우에는 아직 어떻게 하는지 모르겠음.\n",
        "# google 은 연결 시간이 최대 12 시간이며 불안정하기 때문에 checkpoint 가 12시간 이내로 찍히도록 설정해 두어야 "
      ],
      "execution_count": 0,
      "outputs": []
    },
    {
      "cell_type": "markdown",
      "metadata": {
        "id": "--rAyL4-sC53",
        "colab_type": "text"
      },
      "source": [
        "### Training Start"
      ]
    },
    {
      "cell_type": "code",
      "metadata": {
        "id": "6Cx57kTK5g7y",
        "colab_type": "code",
        "colab": {}
      },
      "source": [
        "%cd /content/gdrive/\"My Drive\"/darknet\n",
        "%ls\n",
        "\n",
        "# 실행권한 부여\n",
        "!chmod u+x ./darknet\n",
        "\n",
        "#----------------------------------------\n",
        "\n",
        "# pretrained model 적용시 : downloaded weight\n",
        "#!./darknet detector train data/customdata/gundata/obj-gundetection.data cfg/yolov2-tiny-voc-gundetection.cfg weights/yolov2-tiny-voc.conv.13 -map  -dont_show\n",
        "\n",
        "\n",
        "# pretrained model 적용시 : last weight\n",
        "# !./darknet detector train data/customdata/gundata/obj-gundetection.data cfg/yolov2-tiny-voc-gundetection.cfg backup/yolov2-tiny-voc-gundetection_last.weights -map -dont_show\n",
        "\n",
        "# pretrained model 적용 안할시\n",
        "!./darknet detector train data/customdata/gundata/obj-gundetection.data cfg/yolov2-tiny-voc-gundetection.cfg -map -dont_show\n"
      ],
      "execution_count": 0,
      "outputs": []
    },
    {
      "cell_type": "markdown",
      "metadata": {
        "id": "ws7ROtzGnE6N",
        "colab_type": "text"
      },
      "source": [
        "## Training model : yolo v1 *No Support*"
      ]
    },
    {
      "cell_type": "markdown",
      "metadata": {
        "id": "Esay6FoGngM5",
        "colab_type": "text"
      },
      "source": [
        "### [only once] Change .cfg file"
      ]
    },
    {
      "cell_type": "code",
      "metadata": {
        "id": "V6vwrHbYoGCb",
        "colab_type": "code",
        "outputId": "236d6b94-34b8-4119-f3e0-9e3be9092fa0",
        "colab": {
          "base_uri": "https://localhost:8080/",
          "height": 55
        }
      },
      "source": [
        "# darknet/cfg/yolov1/yolo.cfg 의 사본을 만들고, 이름을 변경\n",
        "# darknet/cfg/yolov1/yolov1-gundetection.cfg\n",
        "\n",
        "\n",
        "\n",
        "# yolov1-gundetection.cfg\n",
        "\n",
        "'''\n",
        "[net]\n",
        "batch=32\n",
        "subdivisions=2\n",
        "height=448\n",
        "width=448\n",
        "channels=3\n",
        "momentum=0.9\n",
        "decay=0.0005\n",
        "saturation=1.5\n",
        "exposure=1.5\n",
        "hue=.1\n",
        "'''\n",
        "\n",
        "\n",
        "'''\n",
        "[connected]\n",
        "output=784\n",
        "activation=linear\n",
        "\n",
        "[detection]\n",
        "classes=1\n",
        "coords=4\n",
        "rescore=1\n",
        "side=7\n",
        "num=3\n",
        "softmax=0\n",
        "sqrt=1\n",
        "jitter=.2\n",
        "'''"
      ],
      "execution_count": 0,
      "outputs": [
        {
          "output_type": "execute_result",
          "data": {
            "text/plain": [
              "'\\n[net]\\nbatch=64\\nsubdivisions=2\\nheight=448\\nwidth=448\\nchannels=3\\nmomentum=0.9\\ndecay=0.0005\\nsaturation=1.5\\nexposure=1.5\\nhue=.1\\n\\nlearning_rate=0.0005\\npolicy=steps\\nsteps=200,400,600,20000,30000\\nscales=2.5,2,2,.1,.1\\nmax_batches = 40000\\n'"
            ]
          },
          "metadata": {
            "tags": []
          },
          "execution_count": 10
        }
      ]
    },
    {
      "cell_type": "markdown",
      "metadata": {
        "id": "V0jdqsxQnnGc",
        "colab_type": "text"
      },
      "source": [
        "### Training Start"
      ]
    },
    {
      "cell_type": "code",
      "metadata": {
        "id": "BaT6-jb8ndKt",
        "colab_type": "code",
        "colab": {}
      },
      "source": [
        "%cd /content/gdrive/\"My Drive\"/darknet\n",
        "%ls\n",
        "\n",
        "# 실행권한 부여\n",
        "!chmod u+x ./darknet\n",
        "\n",
        "#----------------------------------------\n",
        "\n",
        "# pretrained model 적용 안할시\n",
        "# Or just train with -map flag\n",
        "!./darknet detector train data/customdata/gundata/obj-gundetection.data cfg/yolov1/yolov1-gundetection.cfg -map -dont_show"
      ],
      "execution_count": 0,
      "outputs": []
    },
    {
      "cell_type": "markdown",
      "metadata": {
        "id": "25PEUG96gWKb",
        "colab_type": "text"
      },
      "source": [
        "## Training model : yolo v3"
      ]
    },
    {
      "cell_type": "markdown",
      "metadata": {
        "id": "tHNcBAsNgZJ9",
        "colab_type": "text"
      },
      "source": [
        "### [only once] Change .cfg file"
      ]
    },
    {
      "cell_type": "code",
      "metadata": {
        "id": "bFhvPNcnPXkb",
        "colab_type": "code",
        "colab": {}
      },
      "source": [
        "# # https://github.com/AlexeyAB/darknet#how-to-train-to-detect-your-custom-objects 참고"
      ],
      "execution_count": 0,
      "outputs": []
    },
    {
      "cell_type": "markdown",
      "metadata": {
        "id": "MGG_Vr_pQWQ4",
        "colab_type": "text"
      },
      "source": [
        "### [only once] Get pretrained weight"
      ]
    },
    {
      "cell_type": "code",
      "metadata": {
        "id": "yuJ9wivEQW8A",
        "colab_type": "code",
        "colab": {}
      },
      "source": [
        "%cd /content/gdrive/\"My Drive\"/darknet\n",
        "!./darknet partial cfg/yolov3-gundetection.cfg yolov3.weights weights/yolov3.conv.74 74"
      ],
      "execution_count": 0,
      "outputs": []
    },
    {
      "cell_type": "markdown",
      "metadata": {
        "id": "8SaQf3KvgdpM",
        "colab_type": "text"
      },
      "source": [
        "### Training Start"
      ]
    },
    {
      "cell_type": "code",
      "metadata": {
        "id": "y8S3dGgQPZRm",
        "colab_type": "code",
        "colab": {}
      },
      "source": [
        "%cd /content/gdrive/\"My Drive\"/darknet\n",
        "%ls\n",
        "\n",
        "# 실행권한 부여\n",
        "!chmod u+x ./darknet\n",
        "\n",
        "#----------------------------------------\n",
        "\n",
        "# pretrained model 적용시 : downloaded weight\n",
        "!./darknet detector train data/customdata/gundata/obj-gundetection.data cfg/yolov3-gundetection.cfg weights/yolov3.conv.74 -map  -dont_show\n",
        "\n",
        "\n",
        "# pretrained model 적용시 : last weight\n",
        "# !./darknet detector train data/customdata/gundata/obj-gundetection.data cfg/yolov3-gundetection.cfg backup/yolov3-gundetection_last.weights -map -dont_show\n",
        "\n",
        "# pretrained model 적용 안할시\n",
        "# !./darknet detector train data/customdata/gundata/obj-gundetection.data cfg/yolov3-gundetection.cfg -map -dont_show\n"
      ],
      "execution_count": 0,
      "outputs": []
    },
    {
      "cell_type": "markdown",
      "metadata": {
        "id": "ReMo6seDLuJ1",
        "colab_type": "text"
      },
      "source": [
        "# Test Custom Dataset"
      ]
    },
    {
      "cell_type": "markdown",
      "metadata": {
        "id": "btauIxsbhxIP",
        "colab_type": "text"
      },
      "source": [
        "## Test model : tiny-yolo v2"
      ]
    },
    {
      "cell_type": "markdown",
      "metadata": {
        "id": "F02yvGgNL1Tu",
        "colab_type": "text"
      },
      "source": [
        "### Change .cfg"
      ]
    },
    {
      "cell_type": "code",
      "metadata": {
        "id": "yF7T-h2oMG4g",
        "colab_type": "code",
        "colab": {}
      },
      "source": [
        "# testing 아래와 training 위의 주석을 풀어 주는 것이 중요.\n",
        "\n",
        "'''\n",
        "[net] \n",
        "# Testing \n",
        "batch=1 \n",
        "subdivisions=1 \n",
        "# Training \n",
        "# batch=64\n",
        "# subdivisions=16 \n",
        "width=608 \n",
        "height=608\n",
        "'''"
      ],
      "execution_count": 0,
      "outputs": []
    },
    {
      "cell_type": "markdown",
      "metadata": {
        "id": "um1K1ndXvjkd",
        "colab_type": "text"
      },
      "source": [
        "### Test one image"
      ]
    },
    {
      "cell_type": "code",
      "metadata": {
        "id": "WaUAAH7sOrp6",
        "colab_type": "code",
        "outputId": "038b5c8c-915d-4647-84e8-a3798b81a3e4",
        "colab": {
          "base_uri": "https://localhost:8080/",
          "height": 719
        }
      },
      "source": [
        "# 디렉터리 이동\n",
        "%cd /content/gdrive/\"My Drive\"/darknet\n",
        "!rm predictions.jpg\n",
        "\n",
        "# Example of custom object detection: darknet.exe detector test data/obj.data yolo-obj.cfg yolo-obj_8000.weights\n",
        "# data/customdata/gundata/images_and_labels/armas \\(3000\\).jpg\n",
        "# ./darknet detector test cfg/obj.data cfg/yolov3-obj.cfg yolov3-_4000.weights data/.mp4\n",
        "\n",
        "# 실행 명령\n",
        "# reference : https://dhhwang89.tistory.com/105\n",
        "# bash example : !./darknet detector test cfg/coco.data cfg/yolov3.cfg yolov3.weights data/dog.jpg\n",
        "# image path : data/customdata/gundata/images_and_labels/armas (2998).jpg\n",
        "!./darknet detector test data/customdata/gundata/obj-gundetection.data cfg/yolov2-tiny-voc-gundetection.cfg backup/yolov2-tiny-voc-gundetection_last.weights -dont_show\n",
        "\n",
        "# predictions.jpg 저장됨."
      ],
      "execution_count": 0,
      "outputs": [
        {
          "output_type": "stream",
          "text": [
            "/content/gdrive/My Drive/darknet\n",
            " CUDA-version: 10000 (10010), GPU count: 1  \n",
            " OpenCV version: 3.2.0\n",
            "net.optimized_memory = 0 \n",
            "batch = 1, time_steps = 1, train = 0 \n",
            "   layer   filters  size/strd(dil)      input                output\n",
            "   0 conv     16       3 x 3/ 1    416 x 416 x   3 ->  416 x 416 x  16 0.150 BF\n",
            "   1 max                2x 2/ 2    416 x 416 x  16 ->  208 x 208 x  16 0.003 BF\n",
            "   2 conv     32       3 x 3/ 1    208 x 208 x  16 ->  208 x 208 x  32 0.399 BF\n",
            "   3 max                2x 2/ 2    208 x 208 x  32 ->  104 x 104 x  32 0.001 BF\n",
            "   4 conv     64       3 x 3/ 1    104 x 104 x  32 ->  104 x 104 x  64 0.399 BF\n",
            "   5 max                2x 2/ 2    104 x 104 x  64 ->   52 x  52 x  64 0.001 BF\n",
            "   6 conv    128       3 x 3/ 1     52 x  52 x  64 ->   52 x  52 x 128 0.399 BF\n",
            "   7 max                2x 2/ 2     52 x  52 x 128 ->   26 x  26 x 128 0.000 BF\n",
            "   8 conv    256       3 x 3/ 1     26 x  26 x 128 ->   26 x  26 x 256 0.399 BF\n",
            "   9 max                2x 2/ 2     26 x  26 x 256 ->   13 x  13 x 256 0.000 BF\n",
            "  10 conv    512       3 x 3/ 1     13 x  13 x 256 ->   13 x  13 x 512 0.399 BF\n",
            "  11 max                2x 2/ 1     13 x  13 x 512 ->   13 x  13 x 512 0.000 BF\n",
            "  12 conv   1024       3 x 3/ 1     13 x  13 x 512 ->   13 x  13 x1024 1.595 BF\n",
            "  13 conv   1024       3 x 3/ 1     13 x  13 x1024 ->   13 x  13 x1024 3.190 BF\n",
            "  14 conv     30       1 x 1/ 1     13 x  13 x1024 ->   13 x  13 x  30 0.010 BF\n",
            "  15 detection\n",
            "mask_scale: Using default '1.000000'\n",
            "Total BFLOPS 6.944 \n",
            "avg_outputs = 452201 \n",
            " Allocate additional workspace_size = 24.92 MB \n",
            "Loading weights from backup/yolov2-tiny-voc-gundetection_last.weights...\n",
            " seen 64, trained: 640 K-images (10 Kilo-batches_64) \n",
            "Done! Loaded 16 layers from weights-file \n",
            "Enter Image Path: data/customdata/gundata/images_and_labels/armas (2998).jpg\n",
            "data/customdata/gundata/images_and_labels/armas (2998).jpg: Predicted in 320.470000 milli-seconds.\n",
            "gun: 92%\n",
            "gun: 84%\n",
            "Enter Image Path: data/customdata/gundata/images_and_labels/armas (2995).jpg\n",
            "data/customdata/gundata/images_and_labels/armas (2995).jpg: Predicted in 6.536000 milli-seconds.\n",
            "gun: 89%\n",
            "gun: 30%\n",
            "Enter Image Path: "
          ],
          "name": "stdout"
        }
      ]
    },
    {
      "cell_type": "markdown",
      "metadata": {
        "id": "aZd2tSOYGIXz",
        "colab_type": "text"
      },
      "source": [
        "### Test list of images - JSON"
      ]
    },
    {
      "cell_type": "code",
      "metadata": {
        "id": "E558i7-wGu9-",
        "colab_type": "code",
        "colab": {}
      },
      "source": [
        "# make directory\n",
        "\n",
        "\n",
        "# darknet/results/gundetection/tiny-yolo-v2/"
      ],
      "execution_count": 0,
      "outputs": []
    },
    {
      "cell_type": "code",
      "metadata": {
        "id": "gd8kqlvYgVYD",
        "colab_type": "code",
        "colab": {}
      },
      "source": [
        "# get list of weight file\n",
        "\n",
        "%cd /content/gdrive/\"My Drive\"/darknet"
      ],
      "execution_count": 0,
      "outputs": []
    },
    {
      "cell_type": "code",
      "metadata": {
        "id": "cDf-RJE4GI6J",
        "colab_type": "code",
        "colab": {}
      },
      "source": [
        "# 디렉터리 이동\n",
        "%cd /content/gdrive/\"My Drive\"/darknet\n",
        "\n",
        "# To process a list of images data/train.txt and save results of detection to result.json file use:\n",
        "!./darknet detector test data/customdata/gundata/obj-gundetection.data cfg/yolov2-tiny-voc-gundetection.cfg backup/yolov2-tiny-voc-gundetection_last.weights -ext_output -dont_show -out results/gundetection/tiny-yolo-v2/result_last.json < data/customdata/gundata/test-gundetection.txt"
      ],
      "execution_count": 0,
      "outputs": []
    },
    {
      "cell_type": "markdown",
      "metadata": {
        "id": "AoXxL1ndMDQ5",
        "colab_type": "text"
      },
      "source": [
        "### Evaluate Test score"
      ]
    },
    {
      "cell_type": "markdown",
      "metadata": {
        "id": "pUiGUDjAxezc",
        "colab_type": "text"
      },
      "source": [
        "## Test model : yolo v3"
      ]
    },
    {
      "cell_type": "markdown",
      "metadata": {
        "id": "ElLCRJE-xjKD",
        "colab_type": "text"
      },
      "source": [
        "### Change .cfg"
      ]
    },
    {
      "cell_type": "code",
      "metadata": {
        "id": "5JjOAnfXxq7b",
        "colab_type": "code",
        "outputId": "ddbe4189-c5d0-406e-90e6-c3152a0a206f",
        "colab": {
          "base_uri": "https://localhost:8080/",
          "height": 55
        }
      },
      "source": [
        "# yolov3-gundetection.cfg\n",
        "\n",
        "'''\n",
        "[net]\n",
        "# Testing\n",
        "batch=1\n",
        "subdivisions=1\n",
        "# Training\n",
        "# batch=64\n",
        "# subdivisions=16\n",
        "width=416\n",
        "height=416\n",
        "channels=3\n",
        "momentum=0.9\n",
        "decay=0.0005\n",
        "angle=0\n",
        "saturation = 1.5\n",
        "exposure = 1.5\n",
        "hue=.1\n",
        "'''"
      ],
      "execution_count": 0,
      "outputs": [
        {
          "output_type": "execute_result",
          "data": {
            "text/plain": [
              "'\\n[net]\\n# Testing\\nbatch=1\\nsubdivisions=1\\n# Training\\n# batch=64\\n# subdivisions=16\\nwidth=416\\nheight=416\\nchannels=3\\nmomentum=0.9\\ndecay=0.0005\\nangle=0\\nsaturation = 1.5\\nexposure = 1.5\\nhue=.1\\n'"
            ]
          },
          "metadata": {
            "tags": []
          },
          "execution_count": 7
        }
      ]
    },
    {
      "cell_type": "markdown",
      "metadata": {
        "id": "dKoxGMcHxleX",
        "colab_type": "text"
      },
      "source": [
        "### Test one image"
      ]
    },
    {
      "cell_type": "code",
      "metadata": {
        "id": "CCQpi2OcMGQR",
        "colab_type": "code",
        "colab": {}
      },
      "source": [
        "# 디렉터리 이동\n",
        "%cd /content/gdrive/\"My Drive\"/darknet\n",
        "!rm predictions.jpg\n",
        "\n",
        "# Example of custom object detection: darknet.exe detector test data/obj.data yolo-obj.cfg yolo-obj_8000.weights\n",
        "# data/customdata/gundata/images_and_labels/armas \\(3000\\).jpg\n",
        "# ./darknet detector test cfg/obj.data cfg/yolov3-obj.cfg yolov3-_4000.weights data/.mp4\n",
        "\n",
        "# 실행 명령\n",
        "# reference : https://dhhwang89.tistory.com/105\n",
        "# bash example : !./darknet detector test cfg/coco.data cfg/yolov3.cfg yolov3.weights data/dog.jpg\n",
        "# image path : data/customdata/gundata/images_and_labels/armas (2998).jpg\n",
        "!./darknet detector test data/customdata/gundata/obj-gundetection.data cfg/yolov3-gundetection.cfg backup/yolov3-gundetection_last.weights -dont_show\n",
        "\n",
        "# predictions.jpg 저장됨."
      ],
      "execution_count": 0,
      "outputs": []
    }
  ]
}