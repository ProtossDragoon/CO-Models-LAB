{
  "nbformat": 4,
  "nbformat_minor": 0,
  "metadata": {
    "colab": {
      "name": "c3d-keras.ipynb",
      "provenance": [],
      "collapsed_sections": [],
      "authorship_tag": "ABX9TyM56D9ixxAxnWlerB8WuL15",
      "include_colab_link": true
    },
    "kernelspec": {
      "name": "python3",
      "display_name": "Python 3"
    }
  },
  "cells": [
    {
      "cell_type": "markdown",
      "metadata": {
        "id": "view-in-github",
        "colab_type": "text"
      },
      "source": [
        "<a href=\"https://colab.research.google.com/github/ProtossDragoon/CoMoLab/blob/master/CV/Classification/c3d_keras.ipynb\" target=\"_parent\"><img src=\"https://colab.research.google.com/assets/colab-badge.svg\" alt=\"Open In Colab\"/></a>"
      ]
    },
    {
      "cell_type": "markdown",
      "metadata": {
        "id": "XnofKjBGst6S"
      },
      "source": [
        "Googlee"
      ]
    },
    {
      "cell_type": "code",
      "metadata": {
        "id": "6Vr_4ugM1RcW"
      },
      "source": [
        "from google.colab import drive\n",
        "drive.mount('/content/gdrive/')"
      ],
      "execution_count": null,
      "outputs": []
    },
    {
      "cell_type": "code",
      "metadata": {
        "id": "Wt7kU64n1Tai",
        "colab": {
          "base_uri": "https://localhost:8080/"
        },
        "outputId": "0069c768-6ae1-40ce-a3e1-bbf5ac279534"
      },
      "source": [
        "!nvcc -V"
      ],
      "execution_count": null,
      "outputs": [
        {
          "output_type": "stream",
          "text": [
            "nvcc: NVIDIA (R) Cuda compiler driver\n",
            "Copyright (c) 2005-2019 NVIDIA Corporation\n",
            "Built on Sun_Jul_28_19:07:16_PDT_2019\n",
            "Cuda compilation tools, release 10.1, V10.1.243\n"
          ],
          "name": "stdout"
        }
      ]
    },
    {
      "cell_type": "code",
      "metadata": {
        "id": "7T-DxjW_1Tkk",
        "colab": {
          "base_uri": "https://localhost:8080/"
        },
        "outputId": "cf792ada-fdff-4876-df95-7a9f839e172c"
      },
      "source": [
        "!nvidia-smi"
      ],
      "execution_count": null,
      "outputs": [
        {
          "output_type": "stream",
          "text": [
            "NVIDIA-SMI has failed because it couldn't communicate with the NVIDIA driver. Make sure that the latest NVIDIA driver is installed and running.\n",
            "\n"
          ],
          "name": "stdout"
        }
      ]
    },
    {
      "cell_type": "markdown",
      "metadata": {
        "id": "WjQkSYSs1RJY"
      },
      "source": [
        "Import Tensorflow (version 1.15)"
      ]
    },
    {
      "cell_type": "code",
      "metadata": {
        "id": "q0XFi3U8Wf3g",
        "colab": {
          "base_uri": "https://localhost:8080/"
        },
        "outputId": "89d8b5d7-9422-4e7a-91d6-fea8f94357db"
      },
      "source": [
        "try:\n",
        "  # This %tensorflow_version magic only works in Colab.\n",
        "  %tensorflow_version 1.x\n",
        "except Exception:\n",
        "  pass\n",
        "\n",
        "# For your non-Colab code, be sure you have tensorflow==1.15\n",
        "import tensorflow as tf\n",
        "assert tf.__version__.startswith('1')\n",
        "print(tf.__version__)\n",
        "\n",
        "import tensorflow.keras as keras"
      ],
      "execution_count": null,
      "outputs": [
        {
          "output_type": "stream",
          "text": [
            "1.15.2\n"
          ],
          "name": "stdout"
        }
      ]
    },
    {
      "cell_type": "markdown",
      "metadata": {
        "id": "47y5ao9l1Xkf"
      },
      "source": [
        "Model"
      ]
    },
    {
      "cell_type": "code",
      "metadata": {
        "id": "3iK1qDek1XSZ"
      },
      "source": [
        "def c3d():\n",
        "  pass"
      ],
      "execution_count": null,
      "outputs": []
    },
    {
      "cell_type": "code",
      "metadata": {
        "colab": {
          "base_uri": "https://localhost:8080/"
        },
        "id": "PbEaW6_kF_Kh",
        "outputId": "1a5e8270-c2b6-4f98-919a-632e1b682df4"
      },
      "source": [
        "from tensorflow.keras.layers import Conv2D as Conv2D\n",
        "from tensorflow.keras.layers import Conv3D as Conv3D\n",
        "from tensorflow.keras.layers import MaxPooling3D as MaxPool3D\n",
        "from tensorflow.keras.layers import GlobalAveragePooling3D as GAP3D\n",
        "from tensorflow.keras.layers import BatchNormalization as BatchNorm\n",
        "from tensorflow.keras.layers import Softmax, Reshape, Dropout\n",
        "from tensorflow.keras.regularizers import l2\n",
        "\n",
        "def c3d_model(nb_classes=None, input_shape=(16, 112, 112, 3), summary=True, include_top=True):\n",
        "    \"\"\" \n",
        "    Return the Keras model of the network\n",
        "\n",
        "    Args:\n",
        "      nb_classes: include_top 이 True 일 때에만 필요합니다. 분류기에서 분류할 class 의 수를 입력합니다.\n",
        "      input_shape: model 의 input shape 을 정의합니다.\n",
        "      summary: 모델 구조의 요약을 출력합니다.\n",
        "      include_top: 분류기까지 함께 return 합니다.\n",
        "    \n",
        "    Returns:\n",
        "      c3d model\n",
        "    \"\"\"\n",
        "\n",
        "    frame_per_batch = input_shape[0]\n",
        "    weight_decay = 0.005\n",
        "\n",
        "    inputs = keras.Input(shape=input_shape)\n",
        "    # 실제 input shape : (batch, frame, h, w, ch)\n",
        "\n",
        "    x = Conv3D(64, (3,3,3), padding='same', \n",
        "               activation='relu', kernel_regularizer=l2(weight_decay), \n",
        "               name='conv1')(inputs)\n",
        "    x = BatchNorm()(x)           \n",
        "    x = MaxPool3D((2,2,1), strides=(2,2,1), padding='same')(x)\n",
        "\n",
        "    x = Conv3D(128, (3,3,3), strides=(1,1,1), padding='same',\n",
        "               activation='relu', kernel_regularizer=l2(weight_decay),\n",
        "               name='conv2')(x)\n",
        "    x = BatchNorm()(x)\n",
        "    x = MaxPool3D((2,2,2), strides=(2,2,2), padding='same')(x)\n",
        "\n",
        "    x = Conv3D(256, (3,3,3), strides=(1,1,1), padding='same',\n",
        "               activation='relu',kernel_regularizer=l2(weight_decay),\n",
        "               name='conv3-1')(x)\n",
        "    x = BatchNorm()(x)\n",
        "    x = Conv3D(256, (3,3,3), strides=(1,1,1), padding='same',\n",
        "               activation='relu',kernel_regularizer=l2(weight_decay),\n",
        "               name='conv3-2')(x)\n",
        "    x = BatchNorm()(x)\n",
        "    x = MaxPool3D((2,2,2),strides=(2,2,2),padding='same')(x)\n",
        "\n",
        "    x = Conv3D(512, (3,3,3), strides=(1,1,1), padding='same',\n",
        "               activation='relu',kernel_regularizer=l2(weight_decay),\n",
        "               name='conv4-1')(x)\n",
        "    x = BatchNorm()(x)\n",
        "    x = Conv3D(512, (3,3,3), strides=(1,1,1),padding='same',\n",
        "               activation='relu',kernel_regularizer=l2(weight_decay),\n",
        "               name='conv4-2')(x)\n",
        "    x = BatchNorm()(x)\n",
        "    x = MaxPool3D((2,2,2),strides=(2,2,2),padding='same')(x)\n",
        "\n",
        "    x = GAP3D()(x)\n",
        "    x = Reshape((1,1,512))(x)\n",
        "\n",
        "    x = Conv2D(512 * frame_per_batch, (1,1), strides=(1,1), padding='same',\n",
        "               activation='relu', kernel_regularizer=l2(weight_decay),\n",
        "               name='fc1')(x)\n",
        "    x = Dropout(0.5)(x)\n",
        "    x = Conv2D(512 * frame_per_batch, (1,1), strides=(1,1), padding='same',\n",
        "               activation='relu', kernel_regularizer=l2(weight_decay),\n",
        "               name='fc2')(x)               \n",
        "    x = Dropout(0.5)(x)\n",
        "\n",
        "    if include_top:\n",
        "        print('Input -> 3D Conv (Backbone) -> 1x1 Conv (Classifier) -> Output')\n",
        "        x = Conv2D(nb_classes, kernel_regularizer=l2(weight_decay))(x)\n",
        "        x = Softmax()(x)\n",
        "    else :\n",
        "        print('Input -> 3D Conv (Backbone) -> Output')\n",
        "\n",
        "    model = tf.keras.models.Model(inputs, x)\n",
        "\n",
        "    if summary:\n",
        "        model.summary()\n",
        "\n",
        "    return model\n",
        "\n",
        "keras.backend.clear_session()\n",
        "model = c3d_model(include_top=False)"
      ],
      "execution_count": null,
      "outputs": [
        {
          "output_type": "stream",
          "text": [
            "Input -> 3D Conv (Backbone) -> Output\n",
            "Model: \"model\"\n",
            "_________________________________________________________________\n",
            "Layer (type)                 Output Shape              Param #   \n",
            "=================================================================\n",
            "input_1 (InputLayer)         [(None, 16, 112, 112, 3)] 0         \n",
            "_________________________________________________________________\n",
            "conv1 (Conv3D)               (None, 16, 112, 112, 64)  5248      \n",
            "_________________________________________________________________\n",
            "batch_normalization (BatchNo (None, 16, 112, 112, 64)  256       \n",
            "_________________________________________________________________\n",
            "max_pooling3d (MaxPooling3D) (None, 8, 56, 112, 64)    0         \n",
            "_________________________________________________________________\n",
            "conv2 (Conv3D)               (None, 8, 56, 112, 128)   221312    \n",
            "_________________________________________________________________\n",
            "batch_normalization_1 (Batch (None, 8, 56, 112, 128)   512       \n",
            "_________________________________________________________________\n",
            "max_pooling3d_1 (MaxPooling3 (None, 4, 28, 56, 128)    0         \n",
            "_________________________________________________________________\n",
            "conv3-1 (Conv3D)             (None, 4, 28, 56, 256)    884992    \n",
            "_________________________________________________________________\n",
            "batch_normalization_2 (Batch (None, 4, 28, 56, 256)    1024      \n",
            "_________________________________________________________________\n",
            "conv3-2 (Conv3D)             (None, 4, 28, 56, 256)    1769728   \n",
            "_________________________________________________________________\n",
            "batch_normalization_3 (Batch (None, 4, 28, 56, 256)    1024      \n",
            "_________________________________________________________________\n",
            "max_pooling3d_2 (MaxPooling3 (None, 2, 14, 28, 256)    0         \n",
            "_________________________________________________________________\n",
            "conv4-1 (Conv3D)             (None, 2, 14, 28, 512)    3539456   \n",
            "_________________________________________________________________\n",
            "batch_normalization_4 (Batch (None, 2, 14, 28, 512)    2048      \n",
            "_________________________________________________________________\n",
            "conv4-2 (Conv3D)             (None, 2, 14, 28, 512)    7078400   \n",
            "_________________________________________________________________\n",
            "batch_normalization_5 (Batch (None, 2, 14, 28, 512)    2048      \n",
            "_________________________________________________________________\n",
            "max_pooling3d_3 (MaxPooling3 (None, 1, 7, 14, 512)     0         \n",
            "_________________________________________________________________\n",
            "global_average_pooling3d (Gl (None, 512)               0         \n",
            "_________________________________________________________________\n",
            "reshape (Reshape)            (None, 1, 1, 512)         0         \n",
            "_________________________________________________________________\n",
            "fc1 (Conv2D)                 (None, 1, 1, 8192)        4202496   \n",
            "_________________________________________________________________\n",
            "dropout (Dropout)            (None, 1, 1, 8192)        0         \n",
            "_________________________________________________________________\n",
            "fc2 (Conv2D)                 (None, 1, 1, 8192)        67117056  \n",
            "_________________________________________________________________\n",
            "dropout_1 (Dropout)          (None, 1, 1, 8192)        0         \n",
            "=================================================================\n",
            "Total params: 84,825,600\n",
            "Trainable params: 84,822,144\n",
            "Non-trainable params: 3,456\n",
            "_________________________________________________________________\n"
          ],
          "name": "stdout"
        }
      ]
    },
    {
      "cell_type": "code",
      "metadata": {
        "colab": {
          "base_uri": "https://localhost:8080/"
        },
        "id": "ApOJPAI0F_sp",
        "outputId": "702a2b39-19ac-4e4c-edb8-8813d3bda327"
      },
      "source": [
        "def lstm_classifier(backbone, summary=True):\n",
        "    input = backbone.layers[0].input\n",
        "    output = backbone.layers[-1].output\n",
        "    \n",
        "    x = Dropout(0.5)(output)\n",
        "    model = tf.keras.models.Model(input, x)\n",
        "    \n",
        "    if summary:\n",
        "        model.summary()\n",
        "  \n",
        "    return model\n",
        "\n",
        "model = lstm_classifier(model)"
      ],
      "execution_count": null,
      "outputs": [
        {
          "output_type": "stream",
          "text": [
            "Model: \"model_1\"\n",
            "_________________________________________________________________\n",
            "Layer (type)                 Output Shape              Param #   \n",
            "=================================================================\n",
            "input_1 (InputLayer)         [(None, 16, 112, 112, 3)] 0         \n",
            "_________________________________________________________________\n",
            "conv1 (Conv3D)               (None, 16, 112, 112, 64)  5248      \n",
            "_________________________________________________________________\n",
            "batch_normalization (BatchNo (None, 16, 112, 112, 64)  256       \n",
            "_________________________________________________________________\n",
            "max_pooling3d (MaxPooling3D) (None, 8, 56, 112, 64)    0         \n",
            "_________________________________________________________________\n",
            "conv2 (Conv3D)               (None, 8, 56, 112, 128)   221312    \n",
            "_________________________________________________________________\n",
            "batch_normalization_1 (Batch (None, 8, 56, 112, 128)   512       \n",
            "_________________________________________________________________\n",
            "max_pooling3d_1 (MaxPooling3 (None, 4, 28, 56, 128)    0         \n",
            "_________________________________________________________________\n",
            "conv3-1 (Conv3D)             (None, 4, 28, 56, 256)    884992    \n",
            "_________________________________________________________________\n",
            "batch_normalization_2 (Batch (None, 4, 28, 56, 256)    1024      \n",
            "_________________________________________________________________\n",
            "conv3-2 (Conv3D)             (None, 4, 28, 56, 256)    1769728   \n",
            "_________________________________________________________________\n",
            "batch_normalization_3 (Batch (None, 4, 28, 56, 256)    1024      \n",
            "_________________________________________________________________\n",
            "max_pooling3d_2 (MaxPooling3 (None, 2, 14, 28, 256)    0         \n",
            "_________________________________________________________________\n",
            "conv4-1 (Conv3D)             (None, 2, 14, 28, 512)    3539456   \n",
            "_________________________________________________________________\n",
            "batch_normalization_4 (Batch (None, 2, 14, 28, 512)    2048      \n",
            "_________________________________________________________________\n",
            "conv4-2 (Conv3D)             (None, 2, 14, 28, 512)    7078400   \n",
            "_________________________________________________________________\n",
            "batch_normalization_5 (Batch (None, 2, 14, 28, 512)    2048      \n",
            "_________________________________________________________________\n",
            "max_pooling3d_3 (MaxPooling3 (None, 1, 7, 14, 512)     0         \n",
            "_________________________________________________________________\n",
            "global_average_pooling3d (Gl (None, 512)               0         \n",
            "_________________________________________________________________\n",
            "reshape (Reshape)            (None, 1, 1, 512)         0         \n",
            "_________________________________________________________________\n",
            "fc1 (Conv2D)                 (None, 1, 1, 8192)        4202496   \n",
            "_________________________________________________________________\n",
            "dropout (Dropout)            (None, 1, 1, 8192)        0         \n",
            "_________________________________________________________________\n",
            "fc2 (Conv2D)                 (None, 1, 1, 8192)        67117056  \n",
            "_________________________________________________________________\n",
            "dropout_1 (Dropout)          (None, 1, 1, 8192)        0         \n",
            "_________________________________________________________________\n",
            "dropout_2 (Dropout)          (None, 1, 1, 8192)        0         \n",
            "=================================================================\n",
            "Total params: 84,825,600\n",
            "Trainable params: 84,822,144\n",
            "Non-trainable params: 3,456\n",
            "_________________________________________________________________\n"
          ],
          "name": "stdout"
        }
      ]
    },
    {
      "cell_type": "code",
      "metadata": {
        "id": "oKcmERpaZamb"
      },
      "source": [
        ""
      ],
      "execution_count": null,
      "outputs": []
    }
  ]
}